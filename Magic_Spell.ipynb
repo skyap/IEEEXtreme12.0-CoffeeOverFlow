{
 "cells": [
  {
   "cell_type": "code",
   "execution_count": 18,
   "metadata": {
    "collapsed": false
   },
   "outputs": [
    {
     "name": "stdout",
     "output_type": "stream",
     "text": [
      "Overwriting magic.py\n"
     ]
    }
   ],
   "source": [
    "%%file magic.py\n",
    "code={\"xrtp\":\"0\",\"pmr\":\"1\",\"yep\":\"2\",\"yjtrr\":\"3\",\"gpit\":\"4\",\"gobr\":\"5\",\"doc\":\"6\",\"drbrm\":\"7\",\"rohjy\":\"8\",\"momr\":\"9\"}\n",
    "\n",
    "n = int(input())\n",
    "result = 1\n",
    "for i in range(n):\n",
    "    word = [code[i] for i in input().split()]\n",
    "    result*=int(\"\".join(word),16)\n",
    "    \n",
    "print(result)"
   ]
  },
  {
   "cell_type": "code",
   "execution_count": 19,
   "metadata": {
    "collapsed": false
   },
   "outputs": [
    {
     "name": "stdout",
     "output_type": "stream",
     "text": [
      "99999\r\n"
     ]
    }
   ],
   "source": [
    "%%python magic.py\n",
    "2\n",
    "yep momr\n",
    "momr rohjy drbrm"
   ]
  },
  {
   "cell_type": "code",
   "execution_count": 20,
   "metadata": {
    "collapsed": false
   },
   "outputs": [
    {
     "name": "stdout",
     "output_type": "stream",
     "text": [
      "111222111\r\n"
     ]
    }
   ],
   "source": [
    "%%python magic.py\n",
    "3\n",
    "yep pmr\n",
    "pmr momr drbrm\n",
    "yep xrtp gobr momr"
   ]
  }
 ],
 "metadata": {
  "anaconda-cloud": {},
  "kernelspec": {
   "display_name": "Python [conda env:py3k]",
   "language": "python",
   "name": "conda-env-py3k-py"
  },
  "language_info": {
   "codemirror_mode": {
    "name": "ipython",
    "version": 3
   },
   "file_extension": ".py",
   "mimetype": "text/x-python",
   "name": "python",
   "nbconvert_exporter": "python",
   "pygments_lexer": "ipython3",
   "version": "3.6.3"
  }
 },
 "nbformat": 4,
 "nbformat_minor": 2
}
