{
 "cells": [
  {
   "cell_type": "markdown",
   "metadata": {},
   "source": [
    " https://courses.cs.washington.edu/courses/cse521/13wi/slides/06dp-sched.pdf\n",
    " https://www.geeksforgeeks.org/weighted-job-scheduling/<br>\n",
    " https://www.geeksforgeeks.org/weighted-job-scheduling-log-n-time/"
   ]
  },
  {
   "cell_type": "markdown",
   "metadata": {},
   "source": [
    "# brute force with table building"
   ]
  },
  {
   "cell_type": "code",
   "execution_count": 4,
   "metadata": {
    "collapsed": false
   },
   "outputs": [
    {
     "name": "stdout",
     "output_type": "stream",
     "text": [
      "Overwriting schedule.py\n"
     ]
    }
   ],
   "source": [
    "%%file schedule.py\n",
    "n = int(input())\n",
    "schedule = []\n",
    "for _ in range(n):\n",
    "    schedule.append(list(map(int,input().split())))\n",
    "schedule = sorted(schedule,key=lambda x:x[1])\n",
    "p = [-1]*n\n",
    "def valid(a,b):\n",
    "    s1,f1,v1=a\n",
    "    s2,f2,v2=b\n",
    "    if s1>=f2:\n",
    "        return True\n",
    "    else:\n",
    "        return False\n",
    "    \n",
    "for i in range(n-1,0,-1):\n",
    "    for j in range(i-1,-1,-1):\n",
    "        if valid(schedule[i],schedule[j]):\n",
    "            p[i] = j\n",
    "            break\n",
    "def compute_opt(j):\n",
    "    if j==-1:\n",
    "        return 0\n",
    "\n",
    "    else:\n",
    "        return max(schedule[j][2]+compute_opt(p[j]),compute_opt(j-1))\n",
    "print(p)\n",
    "print(schedule)\n",
    "print(compute_opt(n-1))"
   ]
  },
  {
   "cell_type": "code",
   "execution_count": 5,
   "metadata": {
    "collapsed": false
   },
   "outputs": [
    {
     "name": "stdout",
     "output_type": "stream",
     "text": [
      "[-1, -1, 0, -1, 2, 4, 1]\r\n",
      "[[0, 5, 5], [2, 7, 3], [6, 11, 5], [4, 17, 4], [13, 23, 2], [24, 28, 5], [9, 30, 3]]\r\n",
      "17\r\n"
     ]
    }
   ],
   "source": [
    "%%python schedule.py\n",
    "7\n",
    "2 7 3\n",
    "6 11 5\n",
    "4 17 4\n",
    "13 23 2\n",
    "9 30 3\n",
    "24 28 5\n",
    "0 5 5"
   ]
  },
  {
   "cell_type": "markdown",
   "metadata": {},
   "source": [
    "# brute force without table building"
   ]
  },
  {
   "cell_type": "code",
   "execution_count": 12,
   "metadata": {
    "collapsed": false
   },
   "outputs": [
    {
     "name": "stdout",
     "output_type": "stream",
     "text": [
      "Overwriting schedule.py\n"
     ]
    }
   ],
   "source": [
    "%%file schedule.py\n",
    "n = int(input())\n",
    "schedule = []\n",
    "for _ in range(n):\n",
    "    schedule.append(list(map(int,input().split())))\n",
    "schedule = sorted(schedule,key=lambda x:x[1])\n",
    "\n",
    "def valid(a,b):\n",
    "    s1,f1,v1=a\n",
    "    s2,f2,v2=b\n",
    "    if s1>=f2:\n",
    "        return True\n",
    "    else:\n",
    "        return False\n",
    "    \n",
    "def search_not_conflict(i):\n",
    "    for j in range(i-1,-1,-1):\n",
    "        if valid(schedule[i],schedule[j]):\n",
    "            return j\n",
    "    return -1\n",
    "\n",
    "        \n",
    "def compute_opt(j):\n",
    "    i = search_not_conflict(j)\n",
    "    include_profit = schedule[j][2]\n",
    "    if i!=-1:        \n",
    "        include_profit+=compute_opt(i)\n",
    "    exclude_profit = compute_opt(j-1)\n",
    "    return max(include_profit,exclude_profit)\n",
    "print(p)\n",
    "print(schedule)\n",
    "print(compute_opt(n-1))"
   ]
  },
  {
   "cell_type": "code",
   "execution_count": 13,
   "metadata": {
    "collapsed": false
   },
   "outputs": [
    {
     "name": "stdout",
     "output_type": "stream",
     "text": [
      "[-1, -1, -1, -1, -1, -1, -1]\r\n",
      "[[0, 5, 5], [2, 7, 3], [6, 11, 5], [4, 17, 4], [13, 23, 2], [24, 28, 5], [9, 30, 3]]\r\n",
      "17\r\n"
     ]
    }
   ],
   "source": [
    "%%python schedule.py\n",
    "7\n",
    "2 7 3\n",
    "6 11 5\n",
    "4 17 4\n",
    "13 23 2\n",
    "9 30 3\n",
    "24 28 5\n",
    "0 5 5"
   ]
  },
  {
   "cell_type": "code",
   "execution_count": 14,
   "metadata": {
    "collapsed": false
   },
   "outputs": [
    {
     "name": "stdout",
     "output_type": "stream",
     "text": [
      "[-1, -1, -1, -1]\r\n",
      "[[1, 2, 50], [3, 10, 20], [6, 19, 100], [2, 100, 200]]\r\n",
      "250\r\n"
     ]
    }
   ],
   "source": [
    "%%python schedule.py\n",
    "4\n",
    "3 10 20\n",
    "1 2 50\n",
    "6 19 100\n",
    "2 100 200\n",
    "\n"
   ]
  },
  {
   "cell_type": "markdown",
   "metadata": {},
   "source": [
    "# binary search with recursive"
   ]
  },
  {
   "cell_type": "code",
   "execution_count": 1,
   "metadata": {
    "collapsed": false
   },
   "outputs": [
    {
     "name": "stdout",
     "output_type": "stream",
     "text": [
      "Overwriting schedule.py\n"
     ]
    }
   ],
   "source": [
    "%%file schedule.py\n",
    "n = int(input())\n",
    "schedule = []\n",
    "for _ in range(n):\n",
    "    schedule.append(list(map(int,input().split())))\n",
    "schedule = sorted(schedule,key=lambda x:x[1])\n",
    "\n",
    "\n",
    "def valid(a,b):\n",
    "    s1,f1,v1=a\n",
    "    s2,f2,v2=b\n",
    "    if s1>=f2:\n",
    "        return True\n",
    "    else:\n",
    "        return False\n",
    "    \n",
    "def search_not_conflict(i):\n",
    "    left = i-1\n",
    "    right = 0\n",
    "    while left>=right:\n",
    "        mid = (left+right)//2\n",
    "        if valid(schedule[i],schedule[mid]):\n",
    "            if valid(schedule[i],schedule[mid+1]):\n",
    "                right = mid+1\n",
    "            else:\n",
    "                return mid\n",
    "        else:\n",
    "            left=mid-1\n",
    "    return -1\n",
    "\n",
    "        \n",
    "def compute_opt(j):\n",
    "    i = search_not_conflict(j)\n",
    "    include_profit = schedule[j][2]\n",
    "    if i!=-1:        \n",
    "        include_profit+=compute_opt(i)\n",
    "    exclude_profit = compute_opt(j-1)\n",
    "    return max(include_profit,exclude_profit)\n",
    "\n",
    "print(schedule)\n",
    "print(compute_opt(n-1))"
   ]
  },
  {
   "cell_type": "code",
   "execution_count": 2,
   "metadata": {
    "collapsed": false
   },
   "outputs": [
    {
     "name": "stdout",
     "output_type": "stream",
     "text": [
      "[[0, 5, 5], [2, 7, 3], [6, 11, 5], [4, 17, 4], [13, 23, 2], [24, 28, 5], [9, 30, 3]]\r\n",
      "17\r\n"
     ]
    }
   ],
   "source": [
    "%%python schedule.py\n",
    "7\n",
    "2 7 3\n",
    "6 11 5\n",
    "4 17 4\n",
    "13 23 2\n",
    "9 30 3\n",
    "24 28 5\n",
    "0 5 5"
   ]
  },
  {
   "cell_type": "code",
   "execution_count": 3,
   "metadata": {
    "collapsed": false
   },
   "outputs": [
    {
     "name": "stdout",
     "output_type": "stream",
     "text": [
      "[[1, 2, 50], [3, 10, 20], [6, 19, 100], [2, 100, 200]]\r\n",
      "250\r\n"
     ]
    }
   ],
   "source": [
    "%%python schedule.py\n",
    "4\n",
    "3 10 20\n",
    "1 2 50\n",
    "6 19 100\n",
    "2 100 200"
   ]
  },
  {
   "cell_type": "markdown",
   "metadata": {
    "collapsed": true
   },
   "source": [
    "# binary search without recursive call"
   ]
  },
  {
   "cell_type": "code",
   "execution_count": null,
   "metadata": {
    "collapsed": true
   },
   "outputs": [],
   "source": [
    "%%file schedule.py\n",
    "n = int(input())\n",
    "schedule = []\n",
    "for _ in range(n):\n",
    "    schedule.append(list(map(int,input().split())))\n",
    "schedule = sorted(schedule,key=lambda x:x[1])\n",
    "\n",
    "\n",
    "def valid(a,b):\n",
    "    s1,f1,v1=a\n",
    "    s2,f2,v2=b\n",
    "    if s1>=f2:\n",
    "        return True\n",
    "    else:\n",
    "        return False\n",
    "    \n",
    "def search_not_conflict(i):\n",
    "    left = i-1\n",
    "    right = 0\n",
    "    while left>=right:\n",
    "        mid = (left+right)//2\n",
    "        if valid(schedule[i],schedule[mid]):\n",
    "            if valid(schedule[i],schedule[mid+1]):\n",
    "                right = mid+1\n",
    "            else:\n",
    "                return mid\n",
    "        else:\n",
    "            left=mid-1\n",
    "    return -1\n",
    "\n",
    "        \n",
    "def compute_opt(j):\n",
    "    if j==0:\n",
    "        return 0\n",
    "    i = search_not_conflict(j)\n",
    "    include_profit = schedule[j][2]\n",
    "    if i!=-1:        \n",
    "        include_profit+=compute_opt(i)\n",
    "    exclude_profit = compute_opt(j-1)\n",
    "    return max(include_profit,exclude_profit)\n",
    "\n",
    "print(schedule)\n",
    "print(compute_opt(n-1))"
   ]
  },
  {
   "cell_type": "code",
   "execution_count": 3,
   "metadata": {
    "collapsed": false
   },
   "outputs": [
    {
     "data": {
      "text/plain": [
       "21"
      ]
     },
     "execution_count": 3,
     "metadata": {},
     "output_type": "execute_result"
    }
   ],
   "source": [
    "def fib(n):\n",
    "    if n == 0:\n",
    "        return 0\n",
    "    if n == 1:\n",
    "        return 1\n",
    "    \n",
    "    array = [0]*n\n",
    "    array[1]=1\n",
    "    for i in range(2,n):\n",
    "        array[i]=array[i-1]+array[i-2]\n",
    "        \n",
    "    return array[i]\n",
    "\n",
    "fib(9)\n",
    "        "
   ]
  },
  {
   "cell_type": "markdown",
   "metadata": {},
   "source": [
    "0, 1, 1, 2, 3, 5, 8, 13, 21, 34"
   ]
  }
 ],
 "metadata": {
  "anaconda-cloud": {},
  "kernelspec": {
   "display_name": "Python [conda env:py3k]",
   "language": "python",
   "name": "conda-env-py3k-py"
  },
  "language_info": {
   "codemirror_mode": {
    "name": "ipython",
    "version": 3
   },
   "file_extension": ".py",
   "mimetype": "text/x-python",
   "name": "python",
   "nbconvert_exporter": "python",
   "pygments_lexer": "ipython3",
   "version": "3.6.3"
  }
 },
 "nbformat": 4,
 "nbformat_minor": 2
}
