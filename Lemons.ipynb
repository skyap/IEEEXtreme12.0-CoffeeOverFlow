{
 "cells": [
  {
   "cell_type": "code",
   "execution_count": 1,
   "metadata": {
    "collapsed": false
   },
   "outputs": [
    {
     "name": "stdout",
     "output_type": "stream",
     "text": [
      "Writing lemons.py\n"
     ]
    }
   ],
   "source": [
    "%%file lemons.py\n",
    "n,m,s=map(int,input().split())\n",
    "remain = n-1\n",
    "timespent= 0\n",
    "while True:\n",
    "    if remain==3:\n",
    "        timespent=timespent+2*m+s+m+s\n",
    "        break\n",
    "    if remain==2:\n",
    "        timespent=timespent+m+s+m+s\n",
    "        break\n",
    "    if remain<=0:\n",
    "        break\n",
    "    \n",
    "    if (remain)%2==0:\n",
    "        dist = (remain)//2\n",
    "    else:\n",
    "        dist = (remain)//2+1\n",
    "\n",
    "    timespent += dist*m+s\n",
    "    remain = remain - dist\n",
    "\n",
    "print(timespent)"
   ]
  },
  {
   "cell_type": "code",
   "execution_count": 2,
   "metadata": {
    "collapsed": false
   },
   "outputs": [
    {
     "name": "stdout",
     "output_type": "stream",
     "text": [
      "7\r\n"
     ]
    }
   ],
   "source": [
    "%%python lemons.py\n",
    "4 1 2"
   ]
  },
  {
   "cell_type": "code",
   "execution_count": null,
   "metadata": {
    "collapsed": true
   },
   "outputs": [],
   "source": []
  }
 ],
 "metadata": {
  "kernelspec": {
   "display_name": "Python [conda env:py3k]",
   "language": "python",
   "name": "conda-env-py3k-py"
  },
  "language_info": {
   "codemirror_mode": {
    "name": "ipython",
    "version": 3
   },
   "file_extension": ".py",
   "mimetype": "text/x-python",
   "name": "python",
   "nbconvert_exporter": "python",
   "pygments_lexer": "ipython3",
   "version": "3.6.3"
  }
 },
 "nbformat": 4,
 "nbformat_minor": 2
}
