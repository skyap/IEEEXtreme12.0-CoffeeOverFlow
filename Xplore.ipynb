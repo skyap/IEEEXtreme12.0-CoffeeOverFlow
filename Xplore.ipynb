{
 "cells": [
  {
   "cell_type": "code",
   "execution_count": 76,
   "metadata": {
    "collapsed": false
   },
   "outputs": [
    {
     "name": "stdout",
     "output_type": "stream",
     "text": [
      "Overwriting api.py\n"
     ]
    }
   ],
   "source": [
    "%%file api.py\n",
    "import json\n",
    "from collections import defaultdict\n",
    "def hindex(sort):\n",
    "    start,end=1,length\n",
    "    while start<=end:\n",
    "        h=(start+end)//2\n",
    "        if sort[length-h]<h:\n",
    "            end = h-1\n",
    "        elif length-h-1>=0 and sort[length-h-1]>h:\n",
    "            start=h+1\n",
    "        else:\n",
    "            return h\n",
    "    return 0\n",
    "\n",
    "n = int(input())\n",
    "text = []\n",
    "g=defaultdict(list)\n",
    "for _ in range(n):\n",
    "    text.append(json.loads(input()))\n",
    "\n",
    "for i in range(n):\n",
    "    count = text[i][\"citing_paper_count\"]\n",
    "    for j in text[i][\"authors\"][\"authors\"]:\n",
    "        g[j[\"full_name\"]].append(count)\n",
    "\n",
    "new_list=[]\n",
    "for i in g:\n",
    "    length=len(g[i])\n",
    "    sort = sorted(g[i])\n",
    "    new_list.append([i,hindex(sort)])\n",
    "new_list = sorted(sorted(new_list,key=lambda x:x[0]),key=lambda x:x[1],reverse=True)\n",
    "for i in new_list:\n",
    "    print(\" \".join(map(str,i)))"
   ]
  },
  {
   "cell_type": "code",
   "execution_count": 77,
   "metadata": {
    "collapsed": false
   },
   "outputs": [
    {
     "name": "stdout",
     "output_type": "stream",
     "text": [
      "Charlie 5\r\n",
      "Echo 4\r\n",
      "Alfa 3\r\n",
      "Bravo 3\r\n",
      "Delta 3\r\n"
     ]
    }
   ],
   "source": [
    "%%python api.py\n",
    "10\n",
    "{\"authors\": {\"authors\": [{\"author_order\": 1,\"affiliation\": \"\",\"full_name\": \"Echo\"}, {\"author_order\": 2,\"affiliation\": \"\",\"full_name\": \"Bravo\"}, {\"author_order\": 3,\"affiliation\": \"\",\"full_name\": \"Alfa\"}]},\"title\": \"Article Title 1\",\"article_number\": \"1\",\"publication_title\": \"Publication Title 1\",\"publication_number\": \"7\",\"citing_paper_count\": 9,\"publisher\": \"IEEE\"}\n",
    "{\"authors\": {\"authors\": [{\"author_order\": 1,\"affiliation\": \"\",\"full_name\": \"Charlie\"}, {\"author_order\": 2,\"affiliation\": \"\",\"full_name\": \"Bravo\"}]},\"title\": \"Article Title 2\",\"article_number\": \"2\",\"publication_title\": \"Publication Title 1\",\"publication_number\": \"7\",\"citing_paper_count\": 9,\"publisher\": \"IEEE\"}\n",
    "{\"authors\": {\"authors\": [{\"author_order\": 1,\"affiliation\": \"\",\"full_name\": \"Echo\"}, {\"author_order\": 2,\"affiliation\": \"\",\"full_name\": \"Delta\"}, {\"author_order\": 3,\"affiliation\": \"\",\"full_name\": \"Alfa\"}, {\"author_order\": 4,\"affiliation\": \"\",\"full_name\": \"Charlie\"}]},\"title\": \"Article Title 3\",\"article_number\": \"3\",\"publication_title\": \"Publication Title 1\",\"publication_number\": \"7\",\"citing_paper_count\": 4,\"publisher\": \"IEEE\"}\n",
    "{\"authors\": {\"authors\": [{\"author_order\": 1,\"affiliation\": \"\",\"full_name\": \"Charlie\"}]},\"title\": \"Article Title 4\",\"article_number\": \"4\",\"publication_title\": \"Publication Title 1\",\"publication_number\": \"7\",\"citing_paper_count\": 9,\"publisher\": \"IEEE\"}\n",
    "{\"authors\": {\"authors\": [{\"author_order\": 1,\"affiliation\": \"\",\"full_name\": \"Charlie\"}, {\"author_order\": 2,\"affiliation\": \"\",\"full_name\": \"Echo\"}, {\"author_order\": 3,\"affiliation\": \"\",\"full_name\": \"Alfa\"}]},\"title\": \"Article Title 5\",\"article_number\": \"5\",\"publication_title\": \"Publication Title 1\",\"publication_number\": \"7\",\"citing_paper_count\": 5,\"publisher\": \"IEEE\"}\n",
    "{\"authors\": {\"authors\": [{\"author_order\": 1,\"affiliation\": \"\",\"full_name\": \"Charlie\"}, {\"author_order\": 2,\"affiliation\": \"\",\"full_name\": \"Echo\"}]},\"title\": \"Article Title 6\",\"article_number\": \"6\",\"publication_title\": \"Publication Title 1\",\"publication_number\": \"7\",\"citing_paper_count\": 6,\"publisher\": \"IEEE\"}\n",
    "{\"authors\": {\"authors\": [{\"author_order\": 1,\"affiliation\": \"\",\"full_name\": \"Delta\"}]},\"title\": \"Article Title 7\",\"article_number\": \"7\",\"publication_title\": \"Publication Title 1\",\"publication_number\": \"7\",\"citing_paper_count\": 4,\"publisher\": \"IEEE\"}\n",
    "{\"authors\": {\"authors\": [{\"author_order\": 1,\"affiliation\": \"\",\"full_name\": \"Charlie\"}]},\"title\": \"Article Title 8\",\"article_number\": \"8\",\"publication_title\": \"Publication Title 1\",\"publication_number\": \"7\",\"citing_paper_count\": 9,\"publisher\": \"IEEE\"}\n",
    "{\"authors\": {\"authors\": [{\"author_order\": 1,\"affiliation\": \"\",\"full_name\": \"Delta\"}, {\"author_order\": 2,\"affiliation\": \"\",\"full_name\": \"Charlie\"}]},\"title\": \"Article Title 9\",\"article_number\": \"9\",\"publication_title\": \"Publication Title 1\",\"publication_number\": \"7\",\"citing_paper_count\": 4,\"publisher\": \"IEEE\"}\n",
    "{\"authors\": {\"authors\": [{\"author_order\": 1,\"affiliation\": \"\",\"full_name\": \"Bravo\"}, {\"author_order\": 2,\"affiliation\": \"\",\"full_name\": \"Echo\"}]},\"title\": \"Article Title 10\",\"article_number\": \"10\",\"publication_title\": \"Publication Title 1\",\"publication_number\": \"7\",\"citing_paper_count\": 6,\"publisher\": \"IEEE\"}"
   ]
  },
  {
   "cell_type": "code",
   "execution_count": null,
   "metadata": {
    "collapsed": true
   },
   "outputs": [],
   "source": []
  },
  {
   "cell_type": "code",
   "execution_count": null,
   "metadata": {
    "collapsed": true
   },
   "outputs": [],
   "source": []
  },
  {
   "cell_type": "code",
   "execution_count": 97,
   "metadata": {
    "collapsed": false
   },
   "outputs": [
    {
     "data": {
      "text/plain": [
       "'0b11101'"
      ]
     },
     "execution_count": 97,
     "metadata": {},
     "output_type": "execute_result"
    }
   ],
   "source": [
    "bin(29)"
   ]
  },
  {
   "cell_type": "code",
   "execution_count": 90,
   "metadata": {
    "collapsed": false
   },
   "outputs": [
    {
     "data": {
      "text/plain": [
       "'0b1111011011'"
      ]
     },
     "execution_count": 90,
     "metadata": {},
     "output_type": "execute_result"
    }
   ],
   "source": [
    "bin(987)"
   ]
  },
  {
   "cell_type": "code",
   "execution_count": 96,
   "metadata": {
    "collapsed": false
   },
   "outputs": [
    {
     "data": {
      "text/plain": [
       "'0b11000011010011111'"
      ]
     },
     "execution_count": 96,
     "metadata": {},
     "output_type": "execute_result"
    }
   ],
   "source": [
    "bin(99999)"
   ]
  },
  {
   "cell_type": "code",
   "execution_count": 102,
   "metadata": {
    "collapsed": false
   },
   "outputs": [
    {
     "data": {
      "text/plain": [
       "15"
      ]
     },
     "execution_count": 102,
     "metadata": {},
     "output_type": "execute_result"
    }
   ],
   "source": [
    "int(0b1111)"
   ]
  },
  {
   "cell_type": "code",
   "execution_count": 103,
   "metadata": {
    "collapsed": false
   },
   "outputs": [
    {
     "data": {
      "text/plain": [
       "94697610"
      ]
     },
     "execution_count": 103,
     "metadata": {},
     "output_type": "execute_result"
    }
   ],
   "source": [
    "205919721-111222111"
   ]
  },
  {
   "cell_type": "code",
   "execution_count": null,
   "metadata": {
    "collapsed": true
   },
   "outputs": [],
   "source": []
  }
 ],
 "metadata": {
  "anaconda-cloud": {},
  "kernelspec": {
   "display_name": "Python [conda env:py3k]",
   "language": "python",
   "name": "conda-env-py3k-py"
  },
  "language_info": {
   "codemirror_mode": {
    "name": "ipython",
    "version": 3
   },
   "file_extension": ".py",
   "mimetype": "text/x-python",
   "name": "python",
   "nbconvert_exporter": "python",
   "pygments_lexer": "ipython3",
   "version": "3.6.3"
  }
 },
 "nbformat": 4,
 "nbformat_minor": 2
}
